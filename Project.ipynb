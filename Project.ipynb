{
 "cells": [
  {
   "cell_type": "code",
   "execution_count": 1,
   "metadata": {
    "ExecuteTime": {
     "end_time": "2019-11-23T18:04:20.584002Z",
     "start_time": "2019-11-23T18:04:20.565764Z"
    }
   },
   "outputs": [],
   "source": [
    "import pandas as pd\n",
    "import numpy as np\n",
    "import matplotlib.pyplot as plt\n",
    "import sys\n",
    "from mlxtend.plotting import plot_decision_regions\n",
    "from sklearn.metrics import r2_score, mean_absolute_error\n",
    "from sklearn.metrics import confusion_matrix\n",
    "from sklearn import preprocessing\n",
    "from sklearn.model_selection import train_test_split\n",
    "from sklearn.linear_model import LogisticRegression\n",
    "from sklearn.neighbors import KNeighborsClassifier\n",
    "from sklearn import metrics\n",
    "from sklearn.preprocessing import label_binarize\n",
    "from sklearn.multiclass import OneVsRestClassifier\n",
    "from sklearn.metrics import roc_curve,auc\n",
    "from sklearn.tree import DecisionTreeClassifier\n",
    "from sklearn.tree.export import export_text\n",
    "from sklearn.ensemble import RandomForestClassifier\n",
    "from sklearn.svm import SVC\n",
    "from sklearn.metrics import classification_report\n",
    "from sklearn.metrics import f1_score\n",
    "from sklearn.neural_network import MLPClassifier"
   ]
  },
  {
   "cell_type": "code",
   "execution_count": 2,
   "metadata": {
    "ExecuteTime": {
     "end_time": "2019-11-23T18:04:22.062366Z",
     "start_time": "2019-11-23T18:04:21.606375Z"
    }
   },
   "outputs": [],
   "source": [
    "dataset = pd.read_csv(\n",
    "    './data/ConfLongDemo_JSI.csv',\n",
    "    sep=',',\n",
    "    names=[\"seq\", \"tag\", \"timestamp\", \"date\", \"x\", \"y\", \"z\", \"activity\"])"
   ]
  },
  {
   "cell_type": "code",
   "execution_count": 3,
   "metadata": {
    "ExecuteTime": {
     "end_time": "2019-11-23T18:04:22.662710Z",
     "start_time": "2019-11-23T18:04:22.344777Z"
    }
   },
   "outputs": [
    {
     "name": "stdout",
     "output_type": "stream",
     "text": [
      "             seq       tag  timestamp                     date         x  \\\n",
      "0      -1.774225 -1.302171   0.525583  27.05.2009 14:03:25:127  1.366019   \n",
      "1      -1.774225  1.427813   0.525593  27.05.2009 14:03:25:183  1.615982   \n",
      "2      -1.774225  0.517818   0.525598  27.05.2009 14:03:25:210  1.689269   \n",
      "3      -1.774225 -1.302171   0.525602  27.05.2009 14:03:25:237  1.393201   \n",
      "4      -1.774225 -0.392177   0.525607  27.05.2009 14:03:25:263  1.651463   \n",
      "...          ...       ...        ...                      ...       ...   \n",
      "164855  1.501425 -0.392177  -0.917507  27.05.2009 11:50:41:957  0.434528   \n",
      "164856  1.501425 -1.302171  -0.917503  27.05.2009 11:50:41:983  0.628153   \n",
      "164857  1.501425  1.427813  -0.917498  27.05.2009 11:50:42:010  0.412067   \n",
      "164858  1.501425 -0.392177  -0.917488  27.05.2009 11:50:42:063  0.369800   \n",
      "164859  1.501425 -1.302171  -0.917483  27.05.2009 11:50:42:090  0.435095   \n",
      "\n",
      "               y         z  activity  \n",
      "0       0.412769  0.235318        10  \n",
      "1       0.177858  2.443221        10  \n",
      "2       0.273506  1.452321        10  \n",
      "3       0.386521  0.128646        10  \n",
      "4       0.792755  0.184251        10  \n",
      "...          ...       ...       ...  \n",
      "164855  0.733890 -0.937181        10  \n",
      "164856  0.649793 -0.060796        10  \n",
      "164857  0.461913  2.465883        10  \n",
      "164858  0.494516 -0.957927        10  \n",
      "164859  0.512274 -0.140938        10  \n",
      "\n",
      "[164860 rows x 8 columns]\n"
     ]
    }
   ],
   "source": [
    "# Encoding seq\n",
    "dataset['seq'] = dataset['seq'].astype('category')\n",
    "dataset['seq'] = dataset['seq'].cat.codes\n",
    "# Encoding activity\n",
    "dataset['activity'] = dataset['activity'].astype('category')\n",
    "dataset['activity'] = dataset['activity'].cat.codes\n",
    "# Encoding tag\n",
    "dataset['tag'] = dataset['tag'].astype('category')\n",
    "dataset['tag'] = dataset['tag'].cat.codes\n",
    "# del dataset['timestamp']\n",
    "#normalizing timestamp\n",
    "dataset['timestamp'] = (dataset['timestamp'] -\n",
    "                  dataset['timestamp'].mean()) / dataset['timestamp'].std()\n",
    "\n",
    "# normalizing seq\n",
    "dataset['seq'] = (dataset['seq'] -\n",
    "                  dataset['seq'].mean()) / dataset['seq'].std()\n",
    "# normalizing tag\n",
    "dataset['tag'] = (dataset['tag'] -\n",
    "                  dataset['tag'].mean()) / dataset['tag'].std()\n",
    "# normalizing x\n",
    "dataset['x'] = (dataset['x'] - dataset['x'].mean()) / dataset['x'].std()\n",
    "# normalizing y\n",
    "dataset['y'] = (dataset['y'] - dataset['y'].mean()) / dataset['y'].std()\n",
    "# normalizing z\n",
    "dataset['z'] = (dataset['z'] - dataset['z'].mean()) / dataset['z'].std()\n",
    "\n",
    "print(dataset)"
   ]
  },
  {
   "cell_type": "code",
   "execution_count": 4,
   "metadata": {
    "ExecuteTime": {
     "end_time": "2019-11-23T18:04:24.157197Z",
     "start_time": "2019-11-23T18:04:23.734473Z"
    }
   },
   "outputs": [
    {
     "name": "stdout",
     "output_type": "stream",
     "text": [
      "0         27.05.2009 14:03:25:127\n",
      "1         27.05.2009 14:03:25:183\n",
      "2         27.05.2009 14:03:25:210\n",
      "3         27.05.2009 14:03:25:237\n",
      "4         27.05.2009 14:03:25:263\n",
      "                   ...           \n",
      "164855    27.05.2009 11:50:41:957\n",
      "164856    27.05.2009 11:50:41:983\n",
      "164857    27.05.2009 11:50:42:010\n",
      "164858    27.05.2009 11:50:42:063\n",
      "164859    27.05.2009 11:50:42:090\n",
      "Name: date, Length: 164860, dtype: object <class 'pandas.core.series.Series'>\n",
      "164860\n"
     ]
    }
   ],
   "source": [
    "s = dataset['date']\n",
    "print(s,type(s))\n",
    "s = s.tolist()\n",
    "# this proves that date is same. only time differs\n",
    "print(len(s))\n",
    "r = ''\n",
    "for i in range(len(s)):\n",
    "    r = (s[i].split())[1]\n",
    "    r = r.split(':')\n",
    "    t = r[0]+r[1]+r[2]+r[3]\n",
    "    s[i] = int(t)\n",
    "del dataset['date']\n",
    "dataset['date'] = s\n",
    "dataset['date'] = (dataset['date'] - dataset['date'].mean()) / dataset['date'].std()"
   ]
  },
  {
   "cell_type": "code",
   "execution_count": 5,
   "metadata": {
    "ExecuteTime": {
     "end_time": "2019-11-23T18:04:26.241539Z",
     "start_time": "2019-11-23T18:04:26.207510Z"
    }
   },
   "outputs": [
    {
     "name": "stdout",
     "output_type": "stream",
     "text": [
      "             seq       tag  timestamp         x         y         z  activity  \\\n",
      "0      -1.774225 -1.302171   0.525583  1.366019  0.412769  0.235318        10   \n",
      "1      -1.774225  1.427813   0.525593  1.615982  0.177858  2.443221        10   \n",
      "2      -1.774225  0.517818   0.525598  1.689269  0.273506  1.452321        10   \n",
      "3      -1.774225 -1.302171   0.525602  1.393201  0.386521  0.128646        10   \n",
      "4      -1.774225 -0.392177   0.525607  1.651463  0.792755  0.184251        10   \n",
      "...          ...       ...        ...       ...       ...       ...       ...   \n",
      "164855  1.501425 -0.392177  -0.917507  0.434528  0.733890 -0.937181        10   \n",
      "164856  1.501425 -1.302171  -0.917503  0.628153  0.649793 -0.060796        10   \n",
      "164857  1.501425  1.427813  -0.917498  0.412067  0.461913  2.465883        10   \n",
      "164858  1.501425 -0.392177  -0.917488  0.369800  0.494516 -0.957927        10   \n",
      "164859  1.501425 -1.302171  -0.917483  0.435095  0.512274 -0.140938        10   \n",
      "\n",
      "            date  \n",
      "0       0.634624  \n",
      "1       0.634628  \n",
      "2       0.634630  \n",
      "3       0.634631  \n",
      "4       0.634633  \n",
      "...          ...  \n",
      "164855 -1.046730  \n",
      "164856 -1.046729  \n",
      "164857 -1.046727  \n",
      "164858 -1.046723  \n",
      "164859 -1.046722  \n",
      "\n",
      "[164860 rows x 8 columns]\n"
     ]
    }
   ],
   "source": [
    "print(dataset)\n",
    "target = dataset['activity']\n",
    "del dataset['activity']"
   ]
  },
  {
   "cell_type": "code",
   "execution_count": 6,
   "metadata": {
    "ExecuteTime": {
     "end_time": "2019-11-23T18:04:27.372024Z",
     "start_time": "2019-11-23T18:04:27.301370Z"
    }
   },
   "outputs": [],
   "source": [
    "x_train, x_test, y_train, y_test = train_test_split(dataset, target, test_size=0.25, random_state=0)"
   ]
  },
  {
   "cell_type": "code",
   "execution_count": 7,
   "metadata": {
    "ExecuteTime": {
     "end_time": "2019-11-23T18:04:31.848396Z",
     "start_time": "2019-11-23T18:04:31.840777Z"
    }
   },
   "outputs": [],
   "source": [
    "clf = LogisticRegression(penalty='l2', solver='saga',multi_class='multinomial')"
   ]
  },
  {
   "cell_type": "code",
   "execution_count": null,
   "metadata": {
    "ExecuteTime": {
     "end_time": "2019-11-23T18:04:44.479440Z",
     "start_time": "2019-11-23T18:04:35.136087Z"
    }
   },
   "outputs": [],
   "source": [
    "clf.fit(x_train,y_train)"
   ]
  },
  {
   "cell_type": "code",
   "execution_count": null,
   "metadata": {
    "ExecuteTime": {
     "end_time": "2019-11-23T18:04:44.631394Z",
     "start_time": "2019-11-23T18:04:44.624697Z"
    }
   },
   "outputs": [],
   "source": [
    "target_names = []\n",
    "for i in range(11):\n",
    "    target_names.append(str(i))"
   ]
  },
  {
   "cell_type": "code",
   "execution_count": null,
   "metadata": {
    "ExecuteTime": {
     "end_time": "2019-11-23T18:04:45.090327Z",
     "start_time": "2019-11-23T18:04:44.801704Z"
    }
   },
   "outputs": [],
   "source": [
    "score = clf.score(x_test,y_test)\n",
    "print(score)\n",
    "y_pred = clf.predict(x_test)\n",
    "print(classification_report(y_test,y_pred,target_names=target_names))\n",
    "c_matrix = confusion_matrix(y_test, y_pred)\n",
    "print(\"\\n\", c_matrix)"
   ]
  },
  {
   "cell_type": "code",
   "execution_count": null,
   "metadata": {
    "ExecuteTime": {
     "end_time": "2019-10-22T10:07:13.108173Z",
     "start_time": "2019-10-22T10:07:07.299675Z"
    }
   },
   "outputs": [],
   "source": [
    "clf = LogisticRegression(penalty='l2', solver='liblinear',multi_class='ovr')\n",
    "clf.fit(x_train,y_train)\n",
    "score = clf.score(x_test,y_test)\n",
    "print(score)\n",
    "\n",
    "y_pred = clf.predict(x_test)\n",
    "print(classification_report(y_test,y_pred,target_names=target_names))\n",
    "c_matrix = confusion_matrix(y_test, y_pred)\n",
    "print(\"\\n\", c_matrix)"
   ]
  },
  {
   "cell_type": "code",
   "execution_count": null,
   "metadata": {
    "ExecuteTime": {
     "end_time": "2019-10-22T10:07:16.172891Z",
     "start_time": "2019-10-22T10:07:13.396984Z"
    }
   },
   "outputs": [],
   "source": [
    "logreg = LogisticRegression(penalty=\"l2\",solver=\"liblinear\",multi_class=\"ovr\")\n",
    "y = label_binarize(y_train,classes=range(11))\n",
    "y_t = label_binarize(y_test,classes=range(11))\n",
    "out = OneVsRestClassifier(logreg).fit(x_train,y_train).decision_function(x_test)\n",
    "\n",
    "\n",
    "# In[30]:\n",
    "\n",
    "\n",
    "fpr= dict()\n",
    "tpr = dict()\n",
    "roc_auc = dict()\n",
    "for i in range(11):\n",
    "    fpr[i],tpr[i],t = roc_curve(y_t[:,i],out[:,i])\n",
    "    roc_auc[i] = auc(fpr[i],tpr[i])\n",
    "col = [\"red\",\"green\",\"blue\",\"yellow\",\"pink\",\"black\",\"aqua\",\"cyan\",\"purple\",\"lightgreen\",\"orange\"]\n",
    "for i,c in zip(range(11),col):\n",
    "    plt.plot(fpr[i],tpr[i],color=c,lw=2,label=(\"ROC curve of class \"+str(i)))\n",
    "plt.plot([0,1],[0,1],'k--',lw=2)\n",
    "plt.xlim([0.0,1.0])\n",
    "plt.ylim([0.0,1.1])\n",
    "plt.xlabel('False positive rate')\n",
    "plt.ylabel('True positive rate')\n",
    "plt.title('For L2 regularization')\n",
    "plt.legend(loc=\"lower right\")\n",
    "plt.show()\n",
    "\n"
   ]
  },
  {
   "cell_type": "code",
   "execution_count": null,
   "metadata": {
    "ExecuteTime": {
     "end_time": "2019-10-22T10:07:52.689077Z",
     "start_time": "2019-10-22T10:07:16.678417Z"
    }
   },
   "outputs": [],
   "source": [
    "clf = LogisticRegression(penalty='l2', solver='newton-cg',multi_class='multinomial')\n",
    "clf.fit(x_train,y_train)\n",
    "score = clf.score(x_test,y_test)\n",
    "print(score)\n",
    "\n",
    "y_pred = clf.predict(x_test)\n",
    "print(classification_report(y_test,y_pred,target_names=target_names))\n",
    "c_matrix = confusion_matrix(y_test, y_pred)\n",
    "print(\"\\n\", c_matrix)\n",
    "X_train = x_train"
   ]
  },
  {
   "cell_type": "code",
   "execution_count": null,
   "metadata": {
    "ExecuteTime": {
     "end_time": "2019-10-22T10:08:04.557816Z",
     "start_time": "2019-10-22T10:07:53.289922Z"
    }
   },
   "outputs": [],
   "source": [
    "clf = LogisticRegression(penalty='l2', solver='lbfgs',multi_class='multinomial')\n",
    "clf.fit(x_train,y_train)\n",
    "score = clf.score(x_test,y_test)\n",
    "print(score)\n",
    "\n",
    "y_pred = clf.predict(x_test)\n",
    "print(classification_report(y_test,y_pred,target_names=target_names))\n",
    "c_matrix = confusion_matrix(y_test, y_pred)\n",
    "print(\"\\n\", c_matrix)"
   ]
  },
  {
   "cell_type": "code",
   "execution_count": null,
   "metadata": {
    "ExecuteTime": {
     "end_time": "2019-10-22T10:08:06.805959Z",
     "start_time": "2019-10-22T10:08:05.131134Z"
    }
   },
   "outputs": [],
   "source": [
    "# Now decision tree\n",
    "decision_tree = DecisionTreeClassifier(random_state=0, max_depth=100)\n",
    "decision_tree = decision_tree.fit(x_train, y_train)"
   ]
  },
  {
   "cell_type": "code",
   "execution_count": null,
   "metadata": {
    "ExecuteTime": {
     "end_time": "2019-10-22T10:08:07.488185Z",
     "start_time": "2019-10-22T10:08:07.388561Z"
    },
    "scrolled": true
   },
   "outputs": [],
   "source": [
    "r = export_text(decision_tree)\n",
    "print(r)"
   ]
  },
  {
   "cell_type": "code",
   "execution_count": null,
   "metadata": {
    "ExecuteTime": {
     "end_time": "2019-10-22T10:08:08.303013Z",
     "start_time": "2019-10-22T10:08:08.040823Z"
    }
   },
   "outputs": [],
   "source": [
    "print(decision_tree.score(x_test, y_test))\n",
    "\n",
    "\n",
    "y_pred = clf.predict(x_test)\n",
    "c_matrix = confusion_matrix(y_test, y_pred)\n",
    "print(classification_report(y_test,y_pred,target_names=target_names))\n",
    "print(\"\\n\", c_matrix)"
   ]
  },
  {
   "cell_type": "code",
   "execution_count": null,
   "metadata": {
    "ExecuteTime": {
     "end_time": "2019-10-22T10:15:08.292171Z",
     "start_time": "2019-10-22T10:14:36.200929Z"
    }
   },
   "outputs": [],
   "source": [
    "# Now random forest\n",
    "clf = RandomForestClassifier(n_estimators=100, max_depth=100,random_state=0)\n",
    "clf.fit(x_train, y_train)"
   ]
  },
  {
   "cell_type": "code",
   "execution_count": null,
   "metadata": {
    "ExecuteTime": {
     "end_time": "2019-10-22T10:15:09.003400Z",
     "start_time": "2019-10-22T10:15:08.947069Z"
    }
   },
   "outputs": [],
   "source": [
    "print(clf.feature_importances_)"
   ]
  },
  {
   "cell_type": "code",
   "execution_count": null,
   "metadata": {
    "ExecuteTime": {
     "end_time": "2019-10-22T10:15:11.300636Z",
     "start_time": "2019-10-22T10:15:09.664754Z"
    }
   },
   "outputs": [],
   "source": [
    "print(clf.score(x_test, y_test))\n",
    "\n",
    "y_pred = clf.predict(x_test)\n",
    "print(classification_report(y_test,y_pred,target_names=target_names))\n",
    "c_matrix = confusion_matrix(y_test, y_pred)\n",
    "print(\"\\n\", c_matrix)"
   ]
  },
  {
   "cell_type": "code",
   "execution_count": null,
   "metadata": {
    "ExecuteTime": {
     "end_time": "2019-10-18T10:40:56.784461Z",
     "start_time": "2019-10-18T10:34:38.343381Z"
    }
   },
   "outputs": [],
   "source": [
    "# Now SVM\n",
    "clf = SVC(C=0.1, gamma='scale', kernel='rbf')\n",
    "clf.fit(x_train, y_train) "
   ]
  },
  {
   "cell_type": "code",
   "execution_count": null,
   "metadata": {
    "ExecuteTime": {
     "end_time": "2019-10-18T10:42:28.684327Z",
     "start_time": "2019-10-18T10:40:56.787040Z"
    }
   },
   "outputs": [],
   "source": [
    "print(clf.score(x_test, y_test))"
   ]
  },
  {
   "cell_type": "code",
   "execution_count": null,
   "metadata": {
    "ExecuteTime": {
     "end_time": "2019-10-18T10:49:33.993972Z",
     "start_time": "2019-10-18T10:42:28.686189Z"
    }
   },
   "outputs": [],
   "source": [
    "clf = SVC(C=0.1, gamma='scale', kernel='linear')\n",
    "clf.fit(x_train, y_train)"
   ]
  },
  {
   "cell_type": "code",
   "execution_count": null,
   "metadata": {
    "ExecuteTime": {
     "end_time": "2019-10-18T10:50:56.213115Z",
     "start_time": "2019-10-18T10:49:33.996105Z"
    }
   },
   "outputs": [],
   "source": [
    "print(clf.score(x_test, y_test))"
   ]
  },
  {
   "cell_type": "code",
   "execution_count": null,
   "metadata": {
    "ExecuteTime": {
     "end_time": "2019-10-18T10:57:20.175142Z",
     "start_time": "2019-10-18T10:50:56.216868Z"
    }
   },
   "outputs": [],
   "source": [
    "clf = SVC(C=0.1, gamma='scale', degree=2, kernel='poly')\n",
    "clf.fit(x_train, y_train)"
   ]
  },
  {
   "cell_type": "code",
   "execution_count": null,
   "metadata": {
    "ExecuteTime": {
     "end_time": "2019-10-18T13:44:41.854244Z",
     "start_time": "2019-10-18T10:57:20.178097Z"
    }
   },
   "outputs": [],
   "source": [
    "print(clf.score(x_test, y_test))"
   ]
  },
  {
   "cell_type": "code",
   "execution_count": null,
   "metadata": {
    "ExecuteTime": {
     "end_time": "2019-10-18T13:54:00.612048Z",
     "start_time": "2019-10-18T13:44:41.855824Z"
    }
   },
   "outputs": [],
   "source": [
    "clf = SVC(C=0.1, gamma='scale', degree=3, kernel='poly')\n",
    "clf.fit(x_train, y_train)"
   ]
  },
  {
   "cell_type": "code",
   "execution_count": null,
   "metadata": {
    "ExecuteTime": {
     "end_time": "2019-10-18T13:55:24.439973Z",
     "start_time": "2019-10-18T13:54:00.613368Z"
    }
   },
   "outputs": [],
   "source": [
    "print(clf.score(x_test, y_test))"
   ]
  },
  {
   "cell_type": "code",
   "execution_count": null,
   "metadata": {
    "ExecuteTime": {
     "end_time": "2019-10-18T14:41:13.710057Z",
     "start_time": "2019-10-18T14:13:22.148995Z"
    }
   },
   "outputs": [],
   "source": [
    "clf = SVC(C=0.1, gamma='scale', kernel='sigmoid')\n",
    "clf.fit(x_train, y_train)\n",
    "print(clf.score(x_test, y_test))"
   ]
  },
  {
   "cell_type": "code",
   "execution_count": null,
   "metadata": {
    "ExecuteTime": {
     "end_time": "2019-10-22T10:10:12.052815Z",
     "start_time": "2019-10-22T10:08:48.553868Z"
    }
   },
   "outputs": [],
   "source": [
    "for k in range(1,30):\n",
    "    clf = KNeighborsClassifier(n_neighbors=k)\n",
    "    clf.fit(x_train,y_train)\n",
    "    y_pred = clf.predict(x_test)\n",
    "    score = metrics.accuracy_score(y_test,y_pred)\n",
    "    print(k,score)"
   ]
  },
  {
   "cell_type": "code",
   "execution_count": null,
   "metadata": {
    "ExecuteTime": {
     "end_time": "2019-11-23T18:14:26.689999Z",
     "start_time": "2019-11-23T18:05:04.889636Z"
    },
    "scrolled": false
   },
   "outputs": [],
   "source": [
    "reg1 = MLPClassifier(hidden_layer_sizes=(256, 128, 64), solver='sgd',learning_rate='constant', learning_rate_init=0.1, batch_size=128,verbose=True)\n",
    "reg1.fit(x_train, y_train)\n",
    "t = reg1.score(x_train,y_train)\n",
    "tt = reg1.score(x_test, y_test)\n",
    "print('Training accuracy:',t)\n",
    "print('Testing accuracy:',tt)"
   ]
  },
  {
   "cell_type": "code",
   "execution_count": null,
   "metadata": {
    "ExecuteTime": {
     "end_time": "2019-11-23T18:52:49.531763Z",
     "start_time": "2019-11-23T18:18:04.167293Z"
    }
   },
   "outputs": [],
   "source": [
    "reg2 = MLPClassifier(hidden_layer_sizes=(256, 128, 64),verbose=True)\n",
    "reg2.fit(x_train, y_train)\n",
    "t = reg2.score(x_train,y_train)\n",
    "tt = reg2.score(x_test, y_test)\n",
    "print('Training accuracy:',t)\n",
    "print('Testing accuracy:',tt)"
   ]
  },
  {
   "cell_type": "code",
   "execution_count": null,
   "metadata": {
    "ExecuteTime": {
     "end_time": "2019-11-23T21:03:02.756389Z",
     "start_time": "2019-11-23T19:04:28.313039Z"
    },
    "scrolled": true
   },
   "outputs": [],
   "source": [
    "reg3 = MLPClassifier(hidden_layer_sizes=(256, 128 , 64, 32),verbose=True, max_iter=500)\n",
    "reg3.fit(x_train, y_train)\n",
    "t = reg3.score(x_train,y_train)\n",
    "tt = reg3.score(x_test, y_test)\n",
    "print('Training accuracy:',t)\n",
    "print('Testing accuracy:',tt)"
   ]
  },
  {
   "cell_type": "code",
   "execution_count": null,
   "metadata": {
    "ExecuteTime": {
     "end_time": "2019-11-23T22:45:50.202541Z",
     "start_time": "2019-11-23T21:03:02.874589Z"
    }
   },
   "outputs": [],
   "source": [
    "reg3 = MLPClassifier(hidden_layer_sizes=(256, 128 , 64, 32,16),verbose=True, max_iter=500)\n",
    "reg3.fit(x_train, y_train)\n",
    "t = reg3.score(x_train,y_train)\n",
    "tt = reg3.score(x_test, y_test)\n",
    "print('Training accuracy:',t)\n",
    "print('Testing accuracy:',tt)"
   ]
  },
  {
   "cell_type": "code",
   "execution_count": null,
   "metadata": {
    "ExecuteTime": {
     "start_time": "2019-11-24T10:43:56.965Z"
    }
   },
   "outputs": [],
   "source": [
    "print('Training accuracy:',t)\n",
    "print('Testing accuracy:',tt)"
   ]
  },
  {
   "cell_type": "code",
   "execution_count": 1,
   "metadata": {},
   "outputs": [
    {
     "name": "stdout",
     "output_type": "stream",
     "text": [
      "   Sequence Name  tagID          Time stamp    Date  x coordinate  \\\n",
      "0              0      3  633790226051820913  105776      4.291954   \n",
      "1              0      2  633790226052091205  105777      4.359101   \n",
      "2              0      0  633790226052361498  105778      4.087835   \n",
      "3              0      1  633790226052631792  105779      4.324462   \n",
      "4              0      3  633790226052902087  105780      4.364077   \n",
      "\n",
      "   y coordinate  z coordinate  activity  \n",
      "0      1.781140      1.344495        10  \n",
      "1      1.826456      0.968821        10  \n",
      "2      1.879999      0.466983        10  \n",
      "3      2.072460      0.488065        10  \n",
      "4      1.767691      1.299996        10  \n"
     ]
    }
   ],
   "source": [
    "import numpy as np # linear algebra\n",
    "import pandas as pd # data processing, CSV file I/O (e.g. pd.read_csv)\n",
    "from subprocess import check_output\n",
    "from sklearn.preprocessing import LabelEncoder\n",
    "from sklearn.model_selection import train_test_split\n",
    "train = pd.read_csv('./data/ConfLongDemo_JSI.csv')\n",
    "\n",
    "\n",
    "train.columns=['Sequence Name','tagID','Time stamp','Date','x coordinate','y coordinate','z coordinate','activity']\n",
    "# print(train.head())\n",
    "# process columns, apply object > numeric\n",
    "# process columns, apply LabelEncoder to categorical features\n",
    "for c in train.columns:\n",
    "    if train[c].dtype == 'object':\n",
    "        lbl = LabelEncoder() \n",
    "        lbl.fit(list(train[c].values)) \n",
    "        train[c] = lbl.transform(list(train[c].values))\n",
    "print(train.head())"
   ]
  },
  {
   "cell_type": "code",
   "execution_count": 2,
   "metadata": {},
   "outputs": [
    {
     "name": "stdout",
     "output_type": "stream",
     "text": [
      "activity                  0             1             2             3  \\\n",
      "Sequence Name  1.391826e+01  1.241327e+01  1.343142e+01  1.151977e+01   \n",
      "tagID          1.412714e+00  1.432397e+00  1.402237e+00  1.447217e+00   \n",
      "Time stamp     6.337902e+17  6.337902e+17  6.337902e+17  6.337902e+17   \n",
      "Date           7.650148e+04  8.497568e+04  8.109940e+04  9.009761e+04   \n",
      "x coordinate   3.417612e+00  2.859681e+00  2.038875e+00  1.897031e+00   \n",
      "y coordinate   1.343692e+00  1.806732e+00  1.984010e+00  1.526687e+00   \n",
      "z coordinate   4.791489e-01  3.169376e-01  3.938247e-01  1.146068e-01   \n",
      "\n",
      "activity                  4  \n",
      "Sequence Name  1.270658e+01  \n",
      "tagID          1.438298e+00  \n",
      "Time stamp     6.337902e+17  \n",
      "Date           8.333538e+04  \n",
      "x coordinate   2.856567e+00  \n",
      "y coordinate   1.561189e+00  \n",
      "z coordinate   5.306721e-01  \n"
     ]
    }
   ],
   "source": [
    "new_col= train.groupby('activity').mean()\n",
    "print(new_col.head().T)\n",
    "train=train.fillna(0)\n",
    "# Scatterplot Matrix\n",
    "# Variables chosen from Random Forest modeling.\n",
    "cols = ['x coordinate','y coordinate','z coordinate','activity']\n",
    "\n",
    "# sns.pairplot(train[cols],\n",
    "#              x_vars = cols,\n",
    "#              y_vars = cols,\n",
    "#              hue = 'activity', \n",
    "#              )"
   ]
  },
  {
   "cell_type": "code",
   "execution_count": 12,
   "metadata": {},
   "outputs": [
    {
     "name": "stdout",
     "output_type": "stream",
     "text": [
      "KNN %error 0.6 rmsle 0.08994565013383393\n",
      "KNN Confusion Matrix\n"
     ]
    },
    {
     "data": {
      "image/png": "[encoded data removed]",
      "text/plain": [
       "<Figure size 432x288 with 2 Axes>"
      ]
     },
     "metadata": {},
     "output_type": "display_data"
    },
    {
     "name": "stdout",
     "output_type": "stream",
     "text": [
      "--------------------------------------------------------------------------------\n",
      "KNN Classification Report\n",
      "              precision    recall  f1-score   support\n",
      "\n",
      "           0       0.95      0.99      0.97       596\n",
      "           1       1.00      1.00      1.00     10998\n",
      "           2       0.97      0.99      0.98      1240\n",
      "           3       0.99      0.98      0.99      1053\n",
      "           4       1.00      1.00      1.00      5402\n",
      "           5       0.94      0.96      0.95       334\n",
      "           6       1.00      1.00      1.00      2275\n",
      "           7       0.99      0.99      0.99      3575\n",
      "           8       0.99      0.98      0.98       284\n",
      "           9       0.99      0.98      0.99       578\n",
      "          10       1.00      0.99      0.99      6637\n",
      "\n",
      "    accuracy                           0.99     32972\n",
      "   macro avg       0.98      0.99      0.98     32972\n",
      "weighted avg       0.99      0.99      0.99     32972\n",
      "\n",
      "--------------------------------------------------------------------------------\n",
      "Accuracy 99.3 %\n"
     ]
    }
   ],
   "source": [
    "from sklearn.linear_model import OrthogonalMatchingPursuit,RANSACRegressor,LogisticRegression,ElasticNetCV,HuberRegressor, Ridge, Lasso,LassoCV,Lars,BayesianRidge,SGDClassifier,LogisticRegressionCV,RidgeClassifier\n",
    "from sklearn.preprocessing import MinMaxScaler\n",
    "import seaborn as sns\n",
    "\n",
    "def rmsle(y_predicted, y_real):\n",
    "    return np.sqrt(np.mean(np.power(np.log1p(y_predicted)-np.log1p(y_real), 2)))\n",
    "def procenterror(y_predicted, y_real):\n",
    "     return np.round( np.mean(np.abs(y_predicted-y_real) )/ np.mean(y_real) *100 ,1)\n",
    "\n",
    "\n",
    "from sklearn.linear_model import OrthogonalMatchingPursuit,RANSACRegressor,LogisticRegression,ElasticNetCV,HuberRegressor, Ridge, Lasso,LassoCV,Lars,BayesianRidge,SGDClassifier,LogisticRegressionCV,RidgeClassifier\n",
    "from sklearn.svm import SVC\n",
    "from sklearn.preprocessing import MinMaxScaler,PolynomialFeatures\n",
    "from sklearn.model_selection import GridSearchCV\n",
    "from sklearn.neighbors import KNeighborsClassifier\n",
    "from sklearn.tree import DecisionTreeClassifier\n",
    "from sklearn import tree\n",
    "import pandas as pd\n",
    "import graphviz \n",
    "import matplotlib.pyplot as plt\n",
    "from sklearn.tree import export_graphviz\n",
    "from sklearn.ensemble import RandomForestClassifier\n",
    "from sklearn.neighbors import DistanceMetric\n",
    "from scipy import stats\n",
    "\n",
    "param_grid = {'C': [0.1,1, 10, 100, 1000], 'gamma': [1,0.1,0.01,0.001,0.0001], 'kernel': ['rbf']}\n",
    "\n",
    "n_col=36\n",
    "X = train.drop(['activity'],axis=1)\n",
    "X = X.drop(['Time stamp'], axis=1)\n",
    "# X = X.drop(['Date'], axis=1)\n",
    "Y=train['activity']\n",
    "X_train, X_test, y_train, y_test = train_test_split(X, Y, test_size=0.2, random_state=42)\n",
    "\n",
    "#X=X.fillna(value=0)\n",
    "#scaler = MinMaxScaler()\n",
    "#scaler.fit(X)\n",
    "#X=scaler.transform(X)\n",
    "#poly = PolynomialFeatures(2)\n",
    "#X=poly.fit_transform(X)\n",
    "\n",
    "\n",
    "names = [\n",
    "#          'DecisionTree',\n",
    "#          'RandomForestClassifier',    \n",
    "         #'ElasticNet',\n",
    "         #'SVC',\n",
    "         #'kSVC',\n",
    "         'KNN',\n",
    "         #'GridSearchCV',\n",
    "#          'HuberRegressor',\n",
    "#          'Ridge',\n",
    "#          'Lasso',\n",
    "#          'LassoCV',\n",
    "#          'Lars',\n",
    "#          'BayesianRidge',\n",
    "#          'SGDClassifier',\n",
    "#          'RidgeClassifier',\n",
    "#          'LogisticRegression',\n",
    "#          'OrthogonalMatchingPursuit',\n",
    "         #'RANSACRegressor',\n",
    "         ]\n",
    "\n",
    "classifiers = [\n",
    "#     DecisionTreeClassifier(),\n",
    "#     RandomForestClassifier(n_estimators = 200),\n",
    "    #ElasticNetCV(cv=10, random_state=0),\n",
    "    #SVC(),\n",
    "    #SVC(kernel = 'rbf', random_state = 0),\n",
    "    KNeighborsClassifier(n_neighbors = 10),\n",
    "    #GridSearchCV(SVC(),param_grid, refit = True, verbose = 1),\n",
    "    HuberRegressor(fit_intercept=True, alpha=0.0, max_iter=100,epsilon=2.95),\n",
    "    Ridge(fit_intercept=True, alpha=0.0, random_state=0, normalize=True),\n",
    "    Lasso(alpha=0.05),\n",
    "    LassoCV(),\n",
    "    Lars(n_nonzero_coefs=10),\n",
    "    BayesianRidge(),\n",
    "    SGDClassifier(),\n",
    "    RidgeClassifier(),\n",
    "    LogisticRegression(),\n",
    "    OrthogonalMatchingPursuit(),\n",
    "    #RANSACRegressor(),\n",
    "]\n",
    "correction= [0,0,0,0,0,0,0,0,0,0,0,0,0,0,0,0,0,0]\n",
    "\n",
    "models=zip(names,classifiers,correction)\n",
    "   \n",
    "for name, clf,correct in models:\n",
    "    regr=clf.fit(X_train,y_train)\n",
    "    #print( name,'% errors', abs(regr.predict(X)+correct-Y).sum()/(Y.sum())*100)\n",
    "    print(name,'%error',procenterror(regr.predict(X_test),y_test),'rmsle',rmsle(regr.predict(X_test),y_test))\n",
    "    from sklearn.metrics import classification_report, confusion_matrix, accuracy_score,f1_score, precision_score, recall_score\n",
    "    \n",
    "    # Confusion Matrix\n",
    "    print(name,'Confusion Matrix')\n",
    "    conf=confusion_matrix(y_test, np.round(regr.predict(X_test) ) ) \n",
    "    label=np.sort( y_test.unique() )\n",
    "    sns.heatmap(conf, annot=True, xticklabels=label, yticklabels=label, cmap=\"YlGnBu\")\n",
    "    plt.show()\n",
    "    \n",
    "    print('--'*40)\n",
    "\n",
    "    # Classification Report\n",
    "    print(name,'Classification Report')\n",
    "    classif=classification_report(y_test,np.round( regr.predict(X_test) ) )\n",
    "    print(classif)\n",
    "\n",
    "\n",
    "    # Accuracy\n",
    "    print('--'*40)\n",
    "    logreg_accuracy = round(accuracy_score(y_test, np.round( regr.predict(X_test) ) ) * 100,2)\n",
    "    print('Accuracy', logreg_accuracy,'%')\n",
    "    \n",
    "#     if name=='DecisionTree':\n",
    "#         label=train.columns\n",
    "#         label=label[:-1].values\n",
    "#         important=pd.DataFrame(clf.feature_importances_,index=label,columns=['imp'])\n",
    "#         important.sort_values(by='imp').plot(kind='bar')\n",
    "#         plt.show()\n"
   ]
  },
  {
   "cell_type": "code",
   "execution_count": 13,
   "metadata": {},
   "outputs": [],
   "source": [
    "import seaborn as sns; sns.set()"
   ]
  },
  {
   "cell_type": "code",
   "execution_count": 15,
   "metadata": {},
   "outputs": [
    {
     "data": {
      "image/png": "[encoded data removed]",
      "text/plain": [
       "<Figure size 432x288 with 2 Axes>"
      ]
     },
     "metadata": {},
     "output_type": "display_data"
    }
   ],
   "source": [
    "ax = sns.heatmap(X_train)"
   ]
  },
  {
   "cell_type": "code",
   "execution_count": null,
   "metadata": {},
   "outputs": [],
   "source": []
  }
 ],
 "metadata": {
  "kernelspec": {
   "display_name": "Python 3",
   "language": "python",
   "name": "python3"
  },
  "language_info": {
   "codemirror_mode": {
    "name": "ipython",
    "version": 3
   },
   "file_extension": ".py",
   "mimetype": "text/x-python",
   "name": "python",
   "nbconvert_exporter": "python",
   "pygments_lexer": "ipython3",
   "version": "3.7.4"
  },
  "varInspector": {
   "cols": {
    "lenName": 16,
    "lenType": 16,
    "lenVar": 40
   },
   "kernels_config": {
    "python": {
     "delete_cmd_postfix": "",
     "delete_cmd_prefix": "del ",
     "library": "var_list.py",
     "varRefreshCmd": "print(var_dic_list())"
    },
    "r": {
     "delete_cmd_postfix": ") ",
     "delete_cmd_prefix": "rm(",
     "library": "var_list.r",
     "varRefreshCmd": "cat(var_dic_list()) "
    }
   },
   "types_to_exclude": [
    "module",
    "function",
    "builtin_function_or_method",
    "instance",
    "_Feature"
   ],
   "window_display": false
  }
 },
 "nbformat": 4,
 "nbformat_minor": 2
}
