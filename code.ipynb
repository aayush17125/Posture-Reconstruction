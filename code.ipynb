{
 "cells": [
  {
   "cell_type": "code",
   "execution_count": 1,
   "metadata": {
    "ExecuteTime": {
     "end_time": "2019-10-15T19:24:11.772662Z",
     "start_time": "2019-10-15T19:24:10.948700Z"
    }
   },
   "outputs": [],
   "source": [
    "import sklearn\n",
    "import pandas as pd\n",
    "import numpy as np\n",
    "import matplotlib.pyplot as plt\n",
    "import sys\n",
    "from mlxtend.plotting import plot_decision_regions\n",
    "from sklearn.metrics import r2_score, mean_absolute_error\n",
    "from sklearn import preprocessing"
   ]
  },
  {
   "cell_type": "code",
   "execution_count": 2,
   "metadata": {
    "ExecuteTime": {
     "end_time": "2019-10-15T19:24:12.173930Z",
     "start_time": "2019-10-15T19:24:11.774576Z"
    }
   },
   "outputs": [],
   "source": [
    "dataset = pd.read_csv(\n",
    "    './data/ConfLongDemo_JSI.csv',\n",
    "    sep=',',\n",
    "    names=[\"seq\", \"tag\", \"timestamp\", \"date\", \"x\", \"y\", \"z\", \"activity\"])"
   ]
  },
  {
   "cell_type": "code",
   "execution_count": 3,
   "metadata": {
    "ExecuteTime": {
     "end_time": "2019-10-15T19:24:12.432877Z",
     "start_time": "2019-10-15T19:24:12.179044Z"
    }
   },
   "outputs": [
    {
     "name": "stdout",
     "output_type": "stream",
     "text": [
      "             seq       tag                     date         x         y  \\\n",
      "0      -1.774225 -1.302171  27.05.2009 14:03:25:127  1.366019  0.412769   \n",
      "1      -1.774225  1.427813  27.05.2009 14:03:25:183  1.615982  0.177858   \n",
      "2      -1.774225  0.517818  27.05.2009 14:03:25:210  1.689269  0.273506   \n",
      "3      -1.774225 -1.302171  27.05.2009 14:03:25:237  1.393201  0.386521   \n",
      "4      -1.774225 -0.392177  27.05.2009 14:03:25:263  1.651463  0.792755   \n",
      "...          ...       ...                      ...       ...       ...   \n",
      "164855  1.501425 -0.392177  27.05.2009 11:50:41:957  0.434528  0.733890   \n",
      "164856  1.501425 -1.302171  27.05.2009 11:50:41:983  0.628153  0.649793   \n",
      "164857  1.501425  1.427813  27.05.2009 11:50:42:010  0.412067  0.461913   \n",
      "164858  1.501425 -0.392177  27.05.2009 11:50:42:063  0.369800  0.494516   \n",
      "164859  1.501425 -1.302171  27.05.2009 11:50:42:090  0.435095  0.512274   \n",
      "\n",
      "               z  activity  \n",
      "0       0.235318        10  \n",
      "1       2.443221        10  \n",
      "2       1.452321        10  \n",
      "3       0.128646        10  \n",
      "4       0.184251        10  \n",
      "...          ...       ...  \n",
      "164855 -0.937181        10  \n",
      "164856 -0.060796        10  \n",
      "164857  2.465883        10  \n",
      "164858 -0.957927        10  \n",
      "164859 -0.140938        10  \n",
      "\n",
      "[164860 rows x 7 columns]\n"
     ]
    }
   ],
   "source": [
    "# Encoding seq\n",
    "dataset['seq'] = dataset['seq'].astype('category')\n",
    "dataset['seq'] = dataset['seq'].cat.codes\n",
    "# Encoding activity\n",
    "dataset['activity'] = dataset['activity'].astype('category')\n",
    "dataset['activity'] = dataset['activity'].cat.codes\n",
    "# Encoding tag\n",
    "dataset['tag'] = dataset['tag'].astype('category')\n",
    "dataset['tag'] = dataset['tag'].cat.codes\n",
    "del dataset['timestamp']\n",
    "# normalizing seq\n",
    "dataset['seq'] = (dataset['seq'] -\n",
    "                  dataset['seq'].mean()) / dataset['seq'].std()\n",
    "# normalizing tag\n",
    "dataset['tag'] = (dataset['tag'] -\n",
    "                  dataset['tag'].mean()) / dataset['tag'].std()\n",
    "# normalizing x\n",
    "dataset['x'] = (dataset['x'] - dataset['x'].mean()) / dataset['x'].std()\n",
    "# normalizing y\n",
    "dataset['y'] = (dataset['y'] - dataset['y'].mean()) / dataset['y'].std()\n",
    "# normalizing z\n",
    "dataset['z'] = (dataset['z'] - dataset['z'].mean()) / dataset['z'].std()\n",
    "\n",
    "print(dataset)"
   ]
  },
  {
   "cell_type": "code",
   "execution_count": null,
   "metadata": {},
   "outputs": [],
   "source": []
  }
 ],
 "metadata": {
  "kernelspec": {
   "display_name": "Python 3",
   "language": "python",
   "name": "python3"
  },
  "language_info": {
   "codemirror_mode": {
    "name": "ipython",
    "version": 3
   },
   "file_extension": ".py",
   "mimetype": "text/x-python",
   "name": "python",
   "nbconvert_exporter": "python",
   "pygments_lexer": "ipython3",
   "version": "3.7.3"
  },
  "varInspector": {
   "cols": {
    "lenName": 16,
    "lenType": 16,
    "lenVar": 40
   },
   "kernels_config": {
    "python": {
     "delete_cmd_postfix": "",
     "delete_cmd_prefix": "del ",
     "library": "var_list.py",
     "varRefreshCmd": "print(var_dic_list())"
    },
    "r": {
     "delete_cmd_postfix": ") ",
     "delete_cmd_prefix": "rm(",
     "library": "var_list.r",
     "varRefreshCmd": "cat(var_dic_list()) "
    }
   },
   "types_to_exclude": [
    "module",
    "function",
    "builtin_function_or_method",
    "instance",
    "_Feature"
   ],
   "window_display": false
  }
 },
 "nbformat": 4,
 "nbformat_minor": 2
}
