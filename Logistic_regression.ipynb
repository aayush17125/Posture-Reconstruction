{
 "cells": [
  {
   "cell_type": "code",
   "execution_count": 21,
   "metadata": {
    "ExecuteTime": {
     "end_time": "2019-10-17T18:46:57.658079Z",
     "start_time": "2019-10-17T18:46:57.641915Z"
    }
   },
   "outputs": [],
   "source": [
    "import pandas as pd\n",
    "import numpy as np\n",
    "import matplotlib.pyplot as plt\n",
    "import sys\n",
    "from mlxtend.plotting import plot_decision_regions\n",
    "from sklearn.metrics import r2_score, mean_absolute_error\n",
    "from sklearn import preprocessing\n",
    "from sklearn.model_selection import train_test_split\n",
    "from sklearn.linear_model import LogisticRegression"
   ]
  },
  {
   "cell_type": "code",
   "execution_count": 22,
   "metadata": {
    "ExecuteTime": {
     "end_time": "2019-10-17T18:46:57.924967Z",
     "start_time": "2019-10-17T18:46:57.663772Z"
    }
   },
   "outputs": [],
   "source": [
    "dataset = pd.read_csv(\n",
    "    './data/ConfLongDemo_JSI.csv',\n",
    "    sep=',',\n",
    "    names=[\"seq\", \"tag\", \"timestamp\", \"date\", \"x\", \"y\", \"z\", \"activity\"])"
   ]
  },
  {
   "cell_type": "code",
   "execution_count": 23,
   "metadata": {
    "ExecuteTime": {
     "end_time": "2019-10-17T18:46:57.999328Z",
     "start_time": "2019-10-17T18:46:57.926648Z"
    }
   },
   "outputs": [
    {
     "name": "stdout",
     "output_type": "stream",
     "text": [
      "             seq       tag                     date         x         y  \\\n",
      "0      -1.774225 -1.302171  27.05.2009 14:03:25:127  1.366019  0.412769   \n",
      "1      -1.774225  1.427813  27.05.2009 14:03:25:183  1.615982  0.177858   \n",
      "2      -1.774225  0.517818  27.05.2009 14:03:25:210  1.689269  0.273506   \n",
      "3      -1.774225 -1.302171  27.05.2009 14:03:25:237  1.393201  0.386521   \n",
      "4      -1.774225 -0.392177  27.05.2009 14:03:25:263  1.651463  0.792755   \n",
      "...          ...       ...                      ...       ...       ...   \n",
      "164855  1.501425 -0.392177  27.05.2009 11:50:41:957  0.434528  0.733890   \n",
      "164856  1.501425 -1.302171  27.05.2009 11:50:41:983  0.628153  0.649793   \n",
      "164857  1.501425  1.427813  27.05.2009 11:50:42:010  0.412067  0.461913   \n",
      "164858  1.501425 -0.392177  27.05.2009 11:50:42:063  0.369800  0.494516   \n",
      "164859  1.501425 -1.302171  27.05.2009 11:50:42:090  0.435095  0.512274   \n",
      "\n",
      "               z  activity  \n",
      "0       0.235318        10  \n",
      "1       2.443221        10  \n",
      "2       1.452321        10  \n",
      "3       0.128646        10  \n",
      "4       0.184251        10  \n",
      "...          ...       ...  \n",
      "164855 -0.937181        10  \n",
      "164856 -0.060796        10  \n",
      "164857  2.465883        10  \n",
      "164858 -0.957927        10  \n",
      "164859 -0.140938        10  \n",
      "\n",
      "[164860 rows x 7 columns]\n"
     ]
    }
   ],
   "source": [
    "# Encoding seq\n",
    "dataset['seq'] = dataset['seq'].astype('category')\n",
    "dataset['seq'] = dataset['seq'].cat.codes\n",
    "# Encoding activity\n",
    "dataset['activity'] = dataset['activity'].astype('category')\n",
    "dataset['activity'] = dataset['activity'].cat.codes\n",
    "# Encoding tag\n",
    "dataset['tag'] = dataset['tag'].astype('category')\n",
    "dataset['tag'] = dataset['tag'].cat.codes\n",
    "del dataset['timestamp']\n",
    "# normalizing seq\n",
    "dataset['seq'] = (dataset['seq'] -\n",
    "                  dataset['seq'].mean()) / dataset['seq'].std()\n",
    "# normalizing tag\n",
    "dataset['tag'] = (dataset['tag'] -\n",
    "                  dataset['tag'].mean()) / dataset['tag'].std()\n",
    "# normalizing x\n",
    "dataset['x'] = (dataset['x'] - dataset['x'].mean()) / dataset['x'].std()\n",
    "# normalizing y\n",
    "dataset['y'] = (dataset['y'] - dataset['y'].mean()) / dataset['y'].std()\n",
    "# normalizing z\n",
    "dataset['z'] = (dataset['z'] - dataset['z'].mean()) / dataset['z'].std()\n",
    "\n",
    "print(dataset)"
   ]
  },
  {
   "cell_type": "code",
   "execution_count": 24,
   "metadata": {
    "ExecuteTime": {
     "end_time": "2019-10-17T18:46:58.196898Z",
     "start_time": "2019-10-17T18:46:58.002706Z"
    }
   },
   "outputs": [
    {
     "name": "stdout",
     "output_type": "stream",
     "text": [
      "0         27.05.2009 14:03:25:127\n",
      "1         27.05.2009 14:03:25:183\n",
      "2         27.05.2009 14:03:25:210\n",
      "3         27.05.2009 14:03:25:237\n",
      "4         27.05.2009 14:03:25:263\n",
      "                   ...           \n",
      "164855    27.05.2009 11:50:41:957\n",
      "164856    27.05.2009 11:50:41:983\n",
      "164857    27.05.2009 11:50:42:010\n",
      "164858    27.05.2009 11:50:42:063\n",
      "164859    27.05.2009 11:50:42:090\n",
      "Name: date, Length: 164860, dtype: object <class 'pandas.core.series.Series'>\n",
      "164860\n"
     ]
    }
   ],
   "source": [
    "s = dataset['date']\n",
    "print(s,type(s))\n",
    "s = s.tolist()\n",
    "# this proves that date is same. only time differs\n",
    "print(len(s))\n",
    "r = ''\n",
    "for i in range(len(s)):\n",
    "    r = (s[i].split())[1]\n",
    "    r = r.split(':')\n",
    "    t = r[0]+r[1]+r[2]+r[3]\n",
    "    s[i] = int(t)\n",
    "del dataset['date']\n",
    "dataset['date'] = s\n",
    "dataset['date'] = (dataset['date'] - dataset['date'].mean()) / dataset['date'].std()"
   ]
  },
  {
   "cell_type": "code",
   "execution_count": 25,
   "metadata": {
    "ExecuteTime": {
     "end_time": "2019-10-17T18:46:58.208047Z",
     "start_time": "2019-10-17T18:46:58.198341Z"
    }
   },
   "outputs": [
    {
     "name": "stdout",
     "output_type": "stream",
     "text": [
      "             seq       tag         x         y         z  activity      date\n",
      "0      -1.774225 -1.302171  1.366019  0.412769  0.235318        10  0.634624\n",
      "1      -1.774225  1.427813  1.615982  0.177858  2.443221        10  0.634628\n",
      "2      -1.774225  0.517818  1.689269  0.273506  1.452321        10  0.634630\n",
      "3      -1.774225 -1.302171  1.393201  0.386521  0.128646        10  0.634631\n",
      "4      -1.774225 -0.392177  1.651463  0.792755  0.184251        10  0.634633\n",
      "...          ...       ...       ...       ...       ...       ...       ...\n",
      "164855  1.501425 -0.392177  0.434528  0.733890 -0.937181        10 -1.046730\n",
      "164856  1.501425 -1.302171  0.628153  0.649793 -0.060796        10 -1.046729\n",
      "164857  1.501425  1.427813  0.412067  0.461913  2.465883        10 -1.046727\n",
      "164858  1.501425 -0.392177  0.369800  0.494516 -0.957927        10 -1.046723\n",
      "164859  1.501425 -1.302171  0.435095  0.512274 -0.140938        10 -1.046722\n",
      "\n",
      "[164860 rows x 7 columns]\n"
     ]
    }
   ],
   "source": [
    "print(dataset)\n",
    "target = dataset['activity']\n",
    "del dataset['activity']"
   ]
  },
  {
   "cell_type": "code",
   "execution_count": 26,
   "metadata": {
    "ExecuteTime": {
     "end_time": "2019-10-17T18:46:58.312842Z",
     "start_time": "2019-10-17T18:46:58.209529Z"
    }
   },
   "outputs": [],
   "source": [
    "x_train, x_test, y_train, y_test = train_test_split(dataset, target, test_size=0.25, random_state=0)"
   ]
  },
  {
   "cell_type": "code",
   "execution_count": 27,
   "metadata": {
    "ExecuteTime": {
     "end_time": "2019-10-17T18:46:58.367661Z",
     "start_time": "2019-10-17T18:46:58.315219Z"
    }
   },
   "outputs": [],
   "source": [
    "clf = LogisticRegression(penalty='l2', solver='saga',multi_class='multinomial')"
   ]
  },
  {
   "cell_type": "code",
   "execution_count": 28,
   "metadata": {
    "ExecuteTime": {
     "end_time": "2019-10-17T18:47:00.069453Z",
     "start_time": "2019-10-17T18:46:58.382502Z"
    }
   },
   "outputs": [
    {
     "data": {
      "text/plain": [
       "LogisticRegression(C=1.0, class_weight=None, dual=False, fit_intercept=True,\n",
       "                   intercept_scaling=1, l1_ratio=None, max_iter=100,\n",
       "                   multi_class='multinomial', n_jobs=None, penalty='l2',\n",
       "                   random_state=None, solver='saga', tol=0.0001, verbose=0,\n",
       "                   warm_start=False)"
      ]
     },
     "execution_count": 28,
     "metadata": {},
     "output_type": "execute_result"
    }
   ],
   "source": [
    "clf.fit(x_train,y_train)"
   ]
  },
  {
   "cell_type": "code",
   "execution_count": 29,
   "metadata": {
    "ExecuteTime": {
     "end_time": "2019-10-17T18:47:00.097016Z",
     "start_time": "2019-10-17T18:47:00.071963Z"
    }
   },
   "outputs": [
    {
     "name": "stdout",
     "output_type": "stream",
     "text": [
      "0.4085405798859639\n"
     ]
    }
   ],
   "source": [
    "score = clf.score(x_test,y_test)\n",
    "print(score)"
   ]
  },
  {
   "cell_type": "code",
   "execution_count": 30,
   "metadata": {
    "ExecuteTime": {
     "end_time": "2019-10-17T18:47:43.660551Z",
     "start_time": "2019-10-17T18:47:38.777600Z"
    }
   },
   "outputs": [
    {
     "name": "stdout",
     "output_type": "stream",
     "text": [
      "0.4084920538638845\n"
     ]
    }
   ],
   "source": [
    "clf = LogisticRegression(penalty='l1', solver='saga',multi_class='multinomial')\n",
    "clf.fit(x_train,y_train)\n",
    "score = clf.score(x_test,y_test)\n",
    "print(score)"
   ]
  },
  {
   "cell_type": "code",
   "execution_count": 31,
   "metadata": {
    "ExecuteTime": {
     "end_time": "2019-10-17T18:50:10.061588Z",
     "start_time": "2019-10-17T18:49:58.987730Z"
    }
   },
   "outputs": [
    {
     "name": "stdout",
     "output_type": "stream",
     "text": [
      "0.4085648428970035\n"
     ]
    }
   ],
   "source": [
    "clf = LogisticRegression(penalty='l2', solver='newton-cg',multi_class='multinomial')\n",
    "clf.fit(x_train,y_train)\n",
    "score = clf.score(x_test,y_test)\n",
    "print(score)"
   ]
  },
  {
   "cell_type": "code",
   "execution_count": 32,
   "metadata": {
    "ExecuteTime": {
     "end_time": "2019-10-17T18:51:04.092130Z",
     "start_time": "2019-10-17T18:50:58.592818Z"
    }
   },
   "outputs": [
    {
     "name": "stdout",
     "output_type": "stream",
     "text": [
      "0.4085405798859639\n"
     ]
    }
   ],
   "source": [
    "clf = LogisticRegression(penalty='l2', solver='lbfgs',multi_class='multinomial')\n",
    "clf.fit(x_train,y_train)\n",
    "score = clf.score(x_test,y_test)\n",
    "print(score)"
   ]
  }
 ],
 "metadata": {
  "kernelspec": {
   "display_name": "Python 3",
   "language": "python",
   "name": "python3"
  },
  "language_info": {
   "codemirror_mode": {
    "name": "ipython",
    "version": 3
   },
   "file_extension": ".py",
   "mimetype": "text/x-python",
   "name": "python",
   "nbconvert_exporter": "python",
   "pygments_lexer": "ipython3",
   "version": "3.7.3"
  },
  "varInspector": {
   "cols": {
    "lenName": 16,
    "lenType": 16,
    "lenVar": 40
   },
   "kernels_config": {
    "python": {
     "delete_cmd_postfix": "",
     "delete_cmd_prefix": "del ",
     "library": "var_list.py",
     "varRefreshCmd": "print(var_dic_list())"
    },
    "r": {
     "delete_cmd_postfix": ") ",
     "delete_cmd_prefix": "rm(",
     "library": "var_list.r",
     "varRefreshCmd": "cat(var_dic_list()) "
    }
   },
   "types_to_exclude": [
    "module",
    "function",
    "builtin_function_or_method",
    "instance",
    "_Feature"
   ],
   "window_display": false
  }
 },
 "nbformat": 4,
 "nbformat_minor": 2
}
